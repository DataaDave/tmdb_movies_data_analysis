{
 "cells": [
  {
   "cell_type": "markdown",
   "metadata": {},
   "source": [
    "# Project: tmdb Movies Data Analysis\n",
    "\n",
    "## Table of Contents\n",
    "<ul>\n",
    "<li><a href=\"#intro\">Introduction</a></li>\n",
    "<li><a href=\"#wrangling\">Data Wrangling</a></li>\n",
    "<li><a href=\"#eda\">Exploratory Data Analysis</a></li>\n",
    "<li><a href=\"#conclusions\">Conclusions</a></li>\n",
    "</ul>"
   ]
  },
  {
   "cell_type": "markdown",
   "metadata": {},
   "source": [
    "<a id='intro'></a>\n",
    "## Introduction\n"
   ]
  },
  {
   "cell_type": "markdown",
   "metadata": {},
   "source": [
    "The Dataset 'tmdb-movies.csv' contains films from 'The Movie Data Base' (tmdb) from 1966 till 2015. Beisde the rating of the movie, which will be used as the dependent variable, there is the following data included: \n",
    "\n",
    "id\timdb_id\tpopularity\tbudget\trevenue\toriginal_title\tcast\thomepage\tdirector\ttagline\tkeywords\toverview\truntime\tgenres\tproduction_companies\trelease_date\tvote_count\trelease_year\tbudget_adj\trevenue_adj\n",
    "\n",
    "In the analysis the following questions will be answered:\n",
    "1. Which genres are most popular (highest rating) and how does this change over the years?\n",
    "2. What is the impact of runtime on the rating?\n",
    "3. What is the correlation of revenue and rating?\n",
    "4. What is the correlation of budget and rating?\n",
    "5. Which are the top 5 directors according to their top rating?\n",
    "6. Which are the top 5 directors according to revenue?"
   ]
  },
  {
   "cell_type": "code",
   "execution_count": 1,
   "metadata": {},
   "outputs": [],
   "source": [
    "#Importing the needed packages\n",
    "import numpy as np\n",
    "import pandas as pd\n",
    "import matplotlib.pyplot as plt\n",
    "import seaborn as sns\n",
    "%matplotlib inline"
   ]
  },
  {
   "cell_type": "markdown",
   "metadata": {},
   "source": [
    "<a id='wrangling'></a>\n",
    "## Data Wrangling\n",
    "\n",
    "\n",
    "### General Properties"
   ]
  },
  {
   "cell_type": "code",
   "execution_count": 2,
   "metadata": {},
   "outputs": [],
   "source": [
    "# Load data\n",
    "df = pd.read_csv('tmdb-movies.csv')"
   ]
  },
  {
   "cell_type": "code",
   "execution_count": 3,
   "metadata": {},
   "outputs": [
    {
     "data": {
      "text/html": [
       "<div>\n",
       "<style scoped>\n",
       "    .dataframe tbody tr th:only-of-type {\n",
       "        vertical-align: middle;\n",
       "    }\n",
       "\n",
       "    .dataframe tbody tr th {\n",
       "        vertical-align: top;\n",
       "    }\n",
       "\n",
       "    .dataframe thead th {\n",
       "        text-align: right;\n",
       "    }\n",
       "</style>\n",
       "<table border=\"1\" class=\"dataframe\">\n",
       "  <thead>\n",
       "    <tr style=\"text-align: right;\">\n",
       "      <th></th>\n",
       "      <th>id</th>\n",
       "      <th>imdb_id</th>\n",
       "      <th>popularity</th>\n",
       "      <th>budget</th>\n",
       "      <th>revenue</th>\n",
       "      <th>original_title</th>\n",
       "      <th>cast</th>\n",
       "      <th>homepage</th>\n",
       "      <th>director</th>\n",
       "      <th>tagline</th>\n",
       "      <th>...</th>\n",
       "      <th>overview</th>\n",
       "      <th>runtime</th>\n",
       "      <th>genres</th>\n",
       "      <th>production_companies</th>\n",
       "      <th>release_date</th>\n",
       "      <th>vote_count</th>\n",
       "      <th>vote_average</th>\n",
       "      <th>release_year</th>\n",
       "      <th>budget_adj</th>\n",
       "      <th>revenue_adj</th>\n",
       "    </tr>\n",
       "  </thead>\n",
       "  <tbody>\n",
       "    <tr>\n",
       "      <th>0</th>\n",
       "      <td>135397</td>\n",
       "      <td>tt0369610</td>\n",
       "      <td>32.985763</td>\n",
       "      <td>150000000</td>\n",
       "      <td>1513528810</td>\n",
       "      <td>Jurassic World</td>\n",
       "      <td>Chris Pratt|Bryce Dallas Howard|Irrfan Khan|Vi...</td>\n",
       "      <td>http://www.jurassicworld.com/</td>\n",
       "      <td>Colin Trevorrow</td>\n",
       "      <td>The park is open.</td>\n",
       "      <td>...</td>\n",
       "      <td>Twenty-two years after the events of Jurassic ...</td>\n",
       "      <td>124</td>\n",
       "      <td>Action|Adventure|Science Fiction|Thriller</td>\n",
       "      <td>Universal Studios|Amblin Entertainment|Legenda...</td>\n",
       "      <td>6/9/15</td>\n",
       "      <td>5562</td>\n",
       "      <td>6.5</td>\n",
       "      <td>2015</td>\n",
       "      <td>1.379999e+08</td>\n",
       "      <td>1.392446e+09</td>\n",
       "    </tr>\n",
       "    <tr>\n",
       "      <th>1</th>\n",
       "      <td>76341</td>\n",
       "      <td>tt1392190</td>\n",
       "      <td>28.419936</td>\n",
       "      <td>150000000</td>\n",
       "      <td>378436354</td>\n",
       "      <td>Mad Max: Fury Road</td>\n",
       "      <td>Tom Hardy|Charlize Theron|Hugh Keays-Byrne|Nic...</td>\n",
       "      <td>http://www.madmaxmovie.com/</td>\n",
       "      <td>George Miller</td>\n",
       "      <td>What a Lovely Day.</td>\n",
       "      <td>...</td>\n",
       "      <td>An apocalyptic story set in the furthest reach...</td>\n",
       "      <td>120</td>\n",
       "      <td>Action|Adventure|Science Fiction|Thriller</td>\n",
       "      <td>Village Roadshow Pictures|Kennedy Miller Produ...</td>\n",
       "      <td>5/13/15</td>\n",
       "      <td>6185</td>\n",
       "      <td>7.1</td>\n",
       "      <td>2015</td>\n",
       "      <td>1.379999e+08</td>\n",
       "      <td>3.481613e+08</td>\n",
       "    </tr>\n",
       "  </tbody>\n",
       "</table>\n",
       "<p>2 rows × 21 columns</p>\n",
       "</div>"
      ],
      "text/plain": [
       "       id    imdb_id  popularity     budget     revenue      original_title  \\\n",
       "0  135397  tt0369610   32.985763  150000000  1513528810      Jurassic World   \n",
       "1   76341  tt1392190   28.419936  150000000   378436354  Mad Max: Fury Road   \n",
       "\n",
       "                                                cast  \\\n",
       "0  Chris Pratt|Bryce Dallas Howard|Irrfan Khan|Vi...   \n",
       "1  Tom Hardy|Charlize Theron|Hugh Keays-Byrne|Nic...   \n",
       "\n",
       "                        homepage         director             tagline  ...  \\\n",
       "0  http://www.jurassicworld.com/  Colin Trevorrow   The park is open.  ...   \n",
       "1    http://www.madmaxmovie.com/    George Miller  What a Lovely Day.  ...   \n",
       "\n",
       "                                            overview runtime  \\\n",
       "0  Twenty-two years after the events of Jurassic ...     124   \n",
       "1  An apocalyptic story set in the furthest reach...     120   \n",
       "\n",
       "                                      genres  \\\n",
       "0  Action|Adventure|Science Fiction|Thriller   \n",
       "1  Action|Adventure|Science Fiction|Thriller   \n",
       "\n",
       "                                production_companies release_date vote_count  \\\n",
       "0  Universal Studios|Amblin Entertainment|Legenda...       6/9/15       5562   \n",
       "1  Village Roadshow Pictures|Kennedy Miller Produ...      5/13/15       6185   \n",
       "\n",
       "   vote_average  release_year    budget_adj   revenue_adj  \n",
       "0           6.5          2015  1.379999e+08  1.392446e+09  \n",
       "1           7.1          2015  1.379999e+08  3.481613e+08  \n",
       "\n",
       "[2 rows x 21 columns]"
      ]
     },
     "execution_count": 3,
     "metadata": {},
     "output_type": "execute_result"
    }
   ],
   "source": [
    "#Exploring the data frame\n",
    "df.head(2)"
   ]
  },
  {
   "cell_type": "code",
   "execution_count": 4,
   "metadata": {},
   "outputs": [
    {
     "data": {
      "text/plain": [
       "(10866, 21)"
      ]
     },
     "execution_count": 4,
     "metadata": {},
     "output_type": "execute_result"
    }
   ],
   "source": [
    "df.shape"
   ]
  },
  {
   "cell_type": "markdown",
   "metadata": {},
   "source": [
    "The dataset has 21 poperties (columns) and 10866 different movies (rows)."
   ]
  },
  {
   "cell_type": "code",
   "execution_count": 5,
   "metadata": {},
   "outputs": [
    {
     "name": "stdout",
     "output_type": "stream",
     "text": [
      "<class 'pandas.core.frame.DataFrame'>\n",
      "RangeIndex: 10866 entries, 0 to 10865\n",
      "Data columns (total 21 columns):\n",
      " #   Column                Non-Null Count  Dtype  \n",
      "---  ------                --------------  -----  \n",
      " 0   id                    10866 non-null  int64  \n",
      " 1   imdb_id               10856 non-null  object \n",
      " 2   popularity            10866 non-null  float64\n",
      " 3   budget                10866 non-null  int64  \n",
      " 4   revenue               10866 non-null  int64  \n",
      " 5   original_title        10866 non-null  object \n",
      " 6   cast                  10790 non-null  object \n",
      " 7   homepage              2936 non-null   object \n",
      " 8   director              10822 non-null  object \n",
      " 9   tagline               8042 non-null   object \n",
      " 10  keywords              9373 non-null   object \n",
      " 11  overview              10862 non-null  object \n",
      " 12  runtime               10866 non-null  int64  \n",
      " 13  genres                10843 non-null  object \n",
      " 14  production_companies  9836 non-null   object \n",
      " 15  release_date          10866 non-null  object \n",
      " 16  vote_count            10866 non-null  int64  \n",
      " 17  vote_average          10866 non-null  float64\n",
      " 18  release_year          10866 non-null  int64  \n",
      " 19  budget_adj            10866 non-null  float64\n",
      " 20  revenue_adj           10866 non-null  float64\n",
      "dtypes: float64(4), int64(6), object(11)\n",
      "memory usage: 1.7+ MB\n"
     ]
    }
   ],
   "source": [
    "df.info()"
   ]
  },
  {
   "cell_type": "code",
   "execution_count": 6,
   "metadata": {},
   "outputs": [
    {
     "data": {
      "text/plain": [
       "count    10866.000000\n",
       "mean       217.389748\n",
       "std        575.619058\n",
       "min         10.000000\n",
       "25%         17.000000\n",
       "50%         38.000000\n",
       "75%        145.750000\n",
       "max       9767.000000\n",
       "Name: vote_count, dtype: float64"
      ]
     },
     "execution_count": 6,
     "metadata": {},
     "output_type": "execute_result"
    }
   ],
   "source": [
    "#Looking at the vote_count distribution in order to set a threshold\n",
    "df.vote_count.describe()"
   ]
  },
  {
   "cell_type": "code",
   "execution_count": 7,
   "metadata": {},
   "outputs": [
    {
     "data": {
      "text/plain": [
       "0    Action|Adventure|Science Fiction|Thriller\n",
       "1    Action|Adventure|Science Fiction|Thriller\n",
       "2           Adventure|Science Fiction|Thriller\n",
       "3     Action|Adventure|Science Fiction|Fantasy\n",
       "4                        Action|Crime|Thriller\n",
       "5             Western|Drama|Adventure|Thriller\n",
       "6    Science Fiction|Action|Thriller|Adventure\n",
       "7              Drama|Adventure|Science Fiction\n",
       "8            Family|Animation|Adventure|Comedy\n",
       "9                      Comedy|Animation|Family\n",
       "Name: genres, dtype: object"
      ]
     },
     "execution_count": 7,
     "metadata": {},
     "output_type": "execute_result"
    }
   ],
   "source": [
    "#Looking at the genres column because it needed to be split up in order to compare them\n",
    "df.genres.head(10)"
   ]
  },
  {
   "cell_type": "code",
   "execution_count": 8,
   "metadata": {},
   "outputs": [
    {
     "data": {
      "text/plain": [
       "0                   Colin Trevorrow\n",
       "1                     George Miller\n",
       "2                  Robert Schwentke\n",
       "3                       J.J. Abrams\n",
       "4                         James Wan\n",
       "5    Alejandro GonzÃ¡lez IÃ±Ã¡rritu\n",
       "6                       Alan Taylor\n",
       "7                      Ridley Scott\n",
       "8          Kyle Balda|Pierre Coffin\n",
       "9                       Pete Docter\n",
       "Name: director, dtype: object"
      ]
     },
     "execution_count": 8,
     "metadata": {},
     "output_type": "execute_result"
    }
   ],
   "source": [
    "#Looking at the directors column because it needed to be split up in order to compare them\n",
    "df.director.head(10)"
   ]
  },
  {
   "cell_type": "markdown",
   "metadata": {},
   "source": [
    "### Data Cleaning\n",
    "\n",
    "1. The following columns will be dropped since they are not needed to answer the proposed questions:\n",
    "\n",
    "- id, imdb_id, popularity, original_title, cast, homepage, tagline, keywords, overview, production_companies\n",
    "\n",
    "- buget (budget_adj will be used)\n",
    "\n",
    "- revenue (revenue_adj will be used)\n",
    "\n",
    "- release_date (release_year will be used)\n",
    "\n",
    "2. A threshold of 100 will be used for votecount to get only movies that got at least 100 votes and therefore have a meaningful rating (vote_average).\n",
    "3. The genres have to be split up in order to make a comparison possible\n",
    "4. Directors have to be split up as well to answer questions 5 and 6."
   ]
  },
  {
   "cell_type": "code",
   "execution_count": 9,
   "metadata": {},
   "outputs": [],
   "source": [
    "# Step1\n",
    "df.drop(['id', 'imdb_id', 'popularity', 'original_title', 'cast', 'homepage', 'tagline', 'keywords', 'overview', 'production_companies', 'budget', 'revenue', 'release_date'], axis=1, inplace = True)\n"
   ]
  },
  {
   "cell_type": "code",
   "execution_count": 10,
   "metadata": {},
   "outputs": [
    {
     "data": {
      "text/html": [
       "<div>\n",
       "<style scoped>\n",
       "    .dataframe tbody tr th:only-of-type {\n",
       "        vertical-align: middle;\n",
       "    }\n",
       "\n",
       "    .dataframe tbody tr th {\n",
       "        vertical-align: top;\n",
       "    }\n",
       "\n",
       "    .dataframe thead th {\n",
       "        text-align: right;\n",
       "    }\n",
       "</style>\n",
       "<table border=\"1\" class=\"dataframe\">\n",
       "  <thead>\n",
       "    <tr style=\"text-align: right;\">\n",
       "      <th></th>\n",
       "      <th>director</th>\n",
       "      <th>runtime</th>\n",
       "      <th>genres</th>\n",
       "      <th>vote_count</th>\n",
       "      <th>vote_average</th>\n",
       "      <th>release_year</th>\n",
       "      <th>budget_adj</th>\n",
       "      <th>revenue_adj</th>\n",
       "    </tr>\n",
       "  </thead>\n",
       "  <tbody>\n",
       "    <tr>\n",
       "      <th>0</th>\n",
       "      <td>Colin Trevorrow</td>\n",
       "      <td>124</td>\n",
       "      <td>Action|Adventure|Science Fiction|Thriller</td>\n",
       "      <td>5562</td>\n",
       "      <td>6.5</td>\n",
       "      <td>2015</td>\n",
       "      <td>1.379999e+08</td>\n",
       "      <td>1.392446e+09</td>\n",
       "    </tr>\n",
       "    <tr>\n",
       "      <th>1</th>\n",
       "      <td>George Miller</td>\n",
       "      <td>120</td>\n",
       "      <td>Action|Adventure|Science Fiction|Thriller</td>\n",
       "      <td>6185</td>\n",
       "      <td>7.1</td>\n",
       "      <td>2015</td>\n",
       "      <td>1.379999e+08</td>\n",
       "      <td>3.481613e+08</td>\n",
       "    </tr>\n",
       "    <tr>\n",
       "      <th>2</th>\n",
       "      <td>Robert Schwentke</td>\n",
       "      <td>119</td>\n",
       "      <td>Adventure|Science Fiction|Thriller</td>\n",
       "      <td>2480</td>\n",
       "      <td>6.3</td>\n",
       "      <td>2015</td>\n",
       "      <td>1.012000e+08</td>\n",
       "      <td>2.716190e+08</td>\n",
       "    </tr>\n",
       "    <tr>\n",
       "      <th>3</th>\n",
       "      <td>J.J. Abrams</td>\n",
       "      <td>136</td>\n",
       "      <td>Action|Adventure|Science Fiction|Fantasy</td>\n",
       "      <td>5292</td>\n",
       "      <td>7.5</td>\n",
       "      <td>2015</td>\n",
       "      <td>1.839999e+08</td>\n",
       "      <td>1.902723e+09</td>\n",
       "    </tr>\n",
       "    <tr>\n",
       "      <th>4</th>\n",
       "      <td>James Wan</td>\n",
       "      <td>137</td>\n",
       "      <td>Action|Crime|Thriller</td>\n",
       "      <td>2947</td>\n",
       "      <td>7.3</td>\n",
       "      <td>2015</td>\n",
       "      <td>1.747999e+08</td>\n",
       "      <td>1.385749e+09</td>\n",
       "    </tr>\n",
       "  </tbody>\n",
       "</table>\n",
       "</div>"
      ],
      "text/plain": [
       "           director  runtime                                     genres  \\\n",
       "0   Colin Trevorrow      124  Action|Adventure|Science Fiction|Thriller   \n",
       "1     George Miller      120  Action|Adventure|Science Fiction|Thriller   \n",
       "2  Robert Schwentke      119         Adventure|Science Fiction|Thriller   \n",
       "3       J.J. Abrams      136   Action|Adventure|Science Fiction|Fantasy   \n",
       "4         James Wan      137                      Action|Crime|Thriller   \n",
       "\n",
       "   vote_count  vote_average  release_year    budget_adj   revenue_adj  \n",
       "0        5562           6.5          2015  1.379999e+08  1.392446e+09  \n",
       "1        6185           7.1          2015  1.379999e+08  3.481613e+08  \n",
       "2        2480           6.3          2015  1.012000e+08  2.716190e+08  \n",
       "3        5292           7.5          2015  1.839999e+08  1.902723e+09  \n",
       "4        2947           7.3          2015  1.747999e+08  1.385749e+09  "
      ]
     },
     "execution_count": 10,
     "metadata": {},
     "output_type": "execute_result"
    }
   ],
   "source": [
    "#Checking if Step1 worked\n",
    "df.head()"
   ]
  },
  {
   "cell_type": "markdown",
   "metadata": {},
   "source": [
    "We now got only the columns we need for the analysis."
   ]
  },
  {
   "cell_type": "code",
   "execution_count": 11,
   "metadata": {},
   "outputs": [
    {
     "data": {
      "text/html": [
       "<div>\n",
       "<style scoped>\n",
       "    .dataframe tbody tr th:only-of-type {\n",
       "        vertical-align: middle;\n",
       "    }\n",
       "\n",
       "    .dataframe tbody tr th {\n",
       "        vertical-align: top;\n",
       "    }\n",
       "\n",
       "    .dataframe thead th {\n",
       "        text-align: right;\n",
       "    }\n",
       "</style>\n",
       "<table border=\"1\" class=\"dataframe\">\n",
       "  <thead>\n",
       "    <tr style=\"text-align: right;\">\n",
       "      <th></th>\n",
       "      <th>director</th>\n",
       "      <th>runtime</th>\n",
       "      <th>genres</th>\n",
       "      <th>vote_count</th>\n",
       "      <th>vote_average</th>\n",
       "      <th>release_year</th>\n",
       "      <th>budget_adj</th>\n",
       "      <th>revenue_adj</th>\n",
       "    </tr>\n",
       "  </thead>\n",
       "  <tbody>\n",
       "    <tr>\n",
       "      <th>0</th>\n",
       "      <td>Colin Trevorrow</td>\n",
       "      <td>124</td>\n",
       "      <td>Action|Adventure|Science Fiction|Thriller</td>\n",
       "      <td>5562</td>\n",
       "      <td>6.5</td>\n",
       "      <td>2015</td>\n",
       "      <td>1.379999e+08</td>\n",
       "      <td>1.392446e+09</td>\n",
       "    </tr>\n",
       "    <tr>\n",
       "      <th>1</th>\n",
       "      <td>George Miller</td>\n",
       "      <td>120</td>\n",
       "      <td>Action|Adventure|Science Fiction|Thriller</td>\n",
       "      <td>6185</td>\n",
       "      <td>7.1</td>\n",
       "      <td>2015</td>\n",
       "      <td>1.379999e+08</td>\n",
       "      <td>3.481613e+08</td>\n",
       "    </tr>\n",
       "    <tr>\n",
       "      <th>2</th>\n",
       "      <td>Robert Schwentke</td>\n",
       "      <td>119</td>\n",
       "      <td>Adventure|Science Fiction|Thriller</td>\n",
       "      <td>2480</td>\n",
       "      <td>6.3</td>\n",
       "      <td>2015</td>\n",
       "      <td>1.012000e+08</td>\n",
       "      <td>2.716190e+08</td>\n",
       "    </tr>\n",
       "    <tr>\n",
       "      <th>3</th>\n",
       "      <td>J.J. Abrams</td>\n",
       "      <td>136</td>\n",
       "      <td>Action|Adventure|Science Fiction|Fantasy</td>\n",
       "      <td>5292</td>\n",
       "      <td>7.5</td>\n",
       "      <td>2015</td>\n",
       "      <td>1.839999e+08</td>\n",
       "      <td>1.902723e+09</td>\n",
       "    </tr>\n",
       "    <tr>\n",
       "      <th>4</th>\n",
       "      <td>James Wan</td>\n",
       "      <td>137</td>\n",
       "      <td>Action|Crime|Thriller</td>\n",
       "      <td>2947</td>\n",
       "      <td>7.3</td>\n",
       "      <td>2015</td>\n",
       "      <td>1.747999e+08</td>\n",
       "      <td>1.385749e+09</td>\n",
       "    </tr>\n",
       "    <tr>\n",
       "      <th>...</th>\n",
       "      <td>...</td>\n",
       "      <td>...</td>\n",
       "      <td>...</td>\n",
       "      <td>...</td>\n",
       "      <td>...</td>\n",
       "      <td>...</td>\n",
       "      <td>...</td>\n",
       "      <td>...</td>\n",
       "    </tr>\n",
       "    <tr>\n",
       "      <th>10762</th>\n",
       "      <td>Michael Cimino</td>\n",
       "      <td>183</td>\n",
       "      <td>Drama|War</td>\n",
       "      <td>464</td>\n",
       "      <td>7.4</td>\n",
       "      <td>1978</td>\n",
       "      <td>5.014051e+07</td>\n",
       "      <td>1.671350e+08</td>\n",
       "    </tr>\n",
       "    <tr>\n",
       "      <th>10764</th>\n",
       "      <td>Lou Adler</td>\n",
       "      <td>86</td>\n",
       "      <td>Comedy</td>\n",
       "      <td>103</td>\n",
       "      <td>6.5</td>\n",
       "      <td>1978</td>\n",
       "      <td>0.000000e+00</td>\n",
       "      <td>1.390259e+08</td>\n",
       "    </tr>\n",
       "    <tr>\n",
       "      <th>10770</th>\n",
       "      <td>Alan Parker</td>\n",
       "      <td>121</td>\n",
       "      <td>Drama|Crime</td>\n",
       "      <td>141</td>\n",
       "      <td>7.5</td>\n",
       "      <td>1978</td>\n",
       "      <td>7.688212e+06</td>\n",
       "      <td>1.169945e+08</td>\n",
       "    </tr>\n",
       "    <tr>\n",
       "      <th>10820</th>\n",
       "      <td>Chuck Jones|Ben Washam</td>\n",
       "      <td>26</td>\n",
       "      <td>Animation|Family|Comedy</td>\n",
       "      <td>286</td>\n",
       "      <td>7.1</td>\n",
       "      <td>1966</td>\n",
       "      <td>2.116175e+06</td>\n",
       "      <td>0.000000e+00</td>\n",
       "    </tr>\n",
       "    <tr>\n",
       "      <th>10825</th>\n",
       "      <td>Michelangelo Antonioni</td>\n",
       "      <td>111</td>\n",
       "      <td>Drama|Mystery|Thriller</td>\n",
       "      <td>103</td>\n",
       "      <td>6.8</td>\n",
       "      <td>1966</td>\n",
       "      <td>0.000000e+00</td>\n",
       "      <td>0.000000e+00</td>\n",
       "    </tr>\n",
       "  </tbody>\n",
       "</table>\n",
       "<p>3329 rows × 8 columns</p>\n",
       "</div>"
      ],
      "text/plain": [
       "                     director  runtime  \\\n",
       "0             Colin Trevorrow      124   \n",
       "1               George Miller      120   \n",
       "2            Robert Schwentke      119   \n",
       "3                 J.J. Abrams      136   \n",
       "4                   James Wan      137   \n",
       "...                       ...      ...   \n",
       "10762          Michael Cimino      183   \n",
       "10764               Lou Adler       86   \n",
       "10770             Alan Parker      121   \n",
       "10820  Chuck Jones|Ben Washam       26   \n",
       "10825  Michelangelo Antonioni      111   \n",
       "\n",
       "                                          genres  vote_count  vote_average  \\\n",
       "0      Action|Adventure|Science Fiction|Thriller        5562           6.5   \n",
       "1      Action|Adventure|Science Fiction|Thriller        6185           7.1   \n",
       "2             Adventure|Science Fiction|Thriller        2480           6.3   \n",
       "3       Action|Adventure|Science Fiction|Fantasy        5292           7.5   \n",
       "4                          Action|Crime|Thriller        2947           7.3   \n",
       "...                                          ...         ...           ...   \n",
       "10762                                  Drama|War         464           7.4   \n",
       "10764                                     Comedy         103           6.5   \n",
       "10770                                Drama|Crime         141           7.5   \n",
       "10820                    Animation|Family|Comedy         286           7.1   \n",
       "10825                     Drama|Mystery|Thriller         103           6.8   \n",
       "\n",
       "       release_year    budget_adj   revenue_adj  \n",
       "0              2015  1.379999e+08  1.392446e+09  \n",
       "1              2015  1.379999e+08  3.481613e+08  \n",
       "2              2015  1.012000e+08  2.716190e+08  \n",
       "3              2015  1.839999e+08  1.902723e+09  \n",
       "4              2015  1.747999e+08  1.385749e+09  \n",
       "...             ...           ...           ...  \n",
       "10762          1978  5.014051e+07  1.671350e+08  \n",
       "10764          1978  0.000000e+00  1.390259e+08  \n",
       "10770          1978  7.688212e+06  1.169945e+08  \n",
       "10820          1966  2.116175e+06  0.000000e+00  \n",
       "10825          1966  0.000000e+00  0.000000e+00  \n",
       "\n",
       "[3329 rows x 8 columns]"
      ]
     },
     "execution_count": 11,
     "metadata": {},
     "output_type": "execute_result"
    }
   ],
   "source": [
    "# Step2\n",
    "vote100 = df.query('vote_count >= 100')\n",
    "vote100"
   ]
  },
  {
   "cell_type": "code",
   "execution_count": 12,
   "metadata": {},
   "outputs": [
    {
     "data": {
      "text/plain": [
       "count    3329.000000\n",
       "mean      639.655452\n",
       "std       907.447159\n",
       "min       100.000000\n",
       "25%       168.000000\n",
       "50%       302.000000\n",
       "75%       689.000000\n",
       "max      9767.000000\n",
       "Name: vote_count, dtype: float64"
      ]
     },
     "execution_count": 12,
     "metadata": {},
     "output_type": "execute_result"
    }
   ],
   "source": [
    "#Checking if Step2 worked\n",
    "vote100.vote_count.describe()"
   ]
  },
  {
   "cell_type": "markdown",
   "metadata": {},
   "source": [
    "The minimum for vote_count is now 100 and therefore the rating (vote_average) should be reliable.\n",
    "\n",
    "Furthermore the number of films was reduced to 3329 which still are enough to answer the questions."
   ]
  },
  {
   "cell_type": "code",
   "execution_count": 13,
   "metadata": {},
   "outputs": [
    {
     "name": "stdout",
     "output_type": "stream",
     "text": [
      "<class 'pandas.core.frame.DataFrame'>\n",
      "Int64Index: 3329 entries, 0 to 10825\n",
      "Data columns (total 8 columns):\n",
      " #   Column        Non-Null Count  Dtype  \n",
      "---  ------        --------------  -----  \n",
      " 0   director      3329 non-null   object \n",
      " 1   runtime       3329 non-null   int64  \n",
      " 2   genres        3329 non-null   object \n",
      " 3   vote_count    3329 non-null   int64  \n",
      " 4   vote_average  3329 non-null   float64\n",
      " 5   release_year  3329 non-null   int64  \n",
      " 6   budget_adj    3329 non-null   float64\n",
      " 7   revenue_adj   3329 non-null   float64\n",
      "dtypes: float64(3), int64(3), object(2)\n",
      "memory usage: 234.1+ KB\n"
     ]
    }
   ],
   "source": [
    "#Looking for empty cells\n",
    "vote100.info()"
   ]
  },
  {
   "cell_type": "markdown",
   "metadata": {},
   "source": [
    "There are no empty cells so no further trimming needed."
   ]
  },
  {
   "cell_type": "code",
   "execution_count": 14,
   "metadata": {},
   "outputs": [
    {
     "data": {
      "text/html": [
       "<div>\n",
       "<style scoped>\n",
       "    .dataframe tbody tr th:only-of-type {\n",
       "        vertical-align: middle;\n",
       "    }\n",
       "\n",
       "    .dataframe tbody tr th {\n",
       "        vertical-align: top;\n",
       "    }\n",
       "\n",
       "    .dataframe thead th {\n",
       "        text-align: right;\n",
       "    }\n",
       "</style>\n",
       "<table border=\"1\" class=\"dataframe\">\n",
       "  <thead>\n",
       "    <tr style=\"text-align: right;\">\n",
       "      <th></th>\n",
       "      <th>budget_adj</th>\n",
       "      <th>director</th>\n",
       "      <th>release_year</th>\n",
       "      <th>revenue_adj</th>\n",
       "      <th>runtime</th>\n",
       "      <th>vote_average</th>\n",
       "      <th>vote_count</th>\n",
       "      <th>genres</th>\n",
       "    </tr>\n",
       "  </thead>\n",
       "  <tbody>\n",
       "    <tr>\n",
       "      <th>0</th>\n",
       "      <td>1.379999e+08</td>\n",
       "      <td>Colin Trevorrow</td>\n",
       "      <td>2015</td>\n",
       "      <td>1.392446e+09</td>\n",
       "      <td>124</td>\n",
       "      <td>6.5</td>\n",
       "      <td>5562</td>\n",
       "      <td>Action</td>\n",
       "    </tr>\n",
       "    <tr>\n",
       "      <th>0</th>\n",
       "      <td>1.379999e+08</td>\n",
       "      <td>Colin Trevorrow</td>\n",
       "      <td>2015</td>\n",
       "      <td>1.392446e+09</td>\n",
       "      <td>124</td>\n",
       "      <td>6.5</td>\n",
       "      <td>5562</td>\n",
       "      <td>Adventure</td>\n",
       "    </tr>\n",
       "    <tr>\n",
       "      <th>0</th>\n",
       "      <td>1.379999e+08</td>\n",
       "      <td>Colin Trevorrow</td>\n",
       "      <td>2015</td>\n",
       "      <td>1.392446e+09</td>\n",
       "      <td>124</td>\n",
       "      <td>6.5</td>\n",
       "      <td>5562</td>\n",
       "      <td>Science Fiction</td>\n",
       "    </tr>\n",
       "    <tr>\n",
       "      <th>0</th>\n",
       "      <td>1.379999e+08</td>\n",
       "      <td>Colin Trevorrow</td>\n",
       "      <td>2015</td>\n",
       "      <td>1.392446e+09</td>\n",
       "      <td>124</td>\n",
       "      <td>6.5</td>\n",
       "      <td>5562</td>\n",
       "      <td>Thriller</td>\n",
       "    </tr>\n",
       "    <tr>\n",
       "      <th>1</th>\n",
       "      <td>1.379999e+08</td>\n",
       "      <td>George Miller</td>\n",
       "      <td>2015</td>\n",
       "      <td>3.481613e+08</td>\n",
       "      <td>120</td>\n",
       "      <td>7.1</td>\n",
       "      <td>6185</td>\n",
       "      <td>Action</td>\n",
       "    </tr>\n",
       "    <tr>\n",
       "      <th>...</th>\n",
       "      <td>...</td>\n",
       "      <td>...</td>\n",
       "      <td>...</td>\n",
       "      <td>...</td>\n",
       "      <td>...</td>\n",
       "      <td>...</td>\n",
       "      <td>...</td>\n",
       "      <td>...</td>\n",
       "    </tr>\n",
       "    <tr>\n",
       "      <th>10820</th>\n",
       "      <td>2.116175e+06</td>\n",
       "      <td>Chuck Jones|Ben Washam</td>\n",
       "      <td>1966</td>\n",
       "      <td>0.000000e+00</td>\n",
       "      <td>26</td>\n",
       "      <td>7.1</td>\n",
       "      <td>286</td>\n",
       "      <td>Family</td>\n",
       "    </tr>\n",
       "    <tr>\n",
       "      <th>10820</th>\n",
       "      <td>2.116175e+06</td>\n",
       "      <td>Chuck Jones|Ben Washam</td>\n",
       "      <td>1966</td>\n",
       "      <td>0.000000e+00</td>\n",
       "      <td>26</td>\n",
       "      <td>7.1</td>\n",
       "      <td>286</td>\n",
       "      <td>Comedy</td>\n",
       "    </tr>\n",
       "    <tr>\n",
       "      <th>10825</th>\n",
       "      <td>0.000000e+00</td>\n",
       "      <td>Michelangelo Antonioni</td>\n",
       "      <td>1966</td>\n",
       "      <td>0.000000e+00</td>\n",
       "      <td>111</td>\n",
       "      <td>6.8</td>\n",
       "      <td>103</td>\n",
       "      <td>Drama</td>\n",
       "    </tr>\n",
       "    <tr>\n",
       "      <th>10825</th>\n",
       "      <td>0.000000e+00</td>\n",
       "      <td>Michelangelo Antonioni</td>\n",
       "      <td>1966</td>\n",
       "      <td>0.000000e+00</td>\n",
       "      <td>111</td>\n",
       "      <td>6.8</td>\n",
       "      <td>103</td>\n",
       "      <td>Mystery</td>\n",
       "    </tr>\n",
       "    <tr>\n",
       "      <th>10825</th>\n",
       "      <td>0.000000e+00</td>\n",
       "      <td>Michelangelo Antonioni</td>\n",
       "      <td>1966</td>\n",
       "      <td>0.000000e+00</td>\n",
       "      <td>111</td>\n",
       "      <td>6.8</td>\n",
       "      <td>103</td>\n",
       "      <td>Thriller</td>\n",
       "    </tr>\n",
       "  </tbody>\n",
       "</table>\n",
       "<p>9009 rows × 8 columns</p>\n",
       "</div>"
      ],
      "text/plain": [
       "         budget_adj                director  release_year   revenue_adj  \\\n",
       "0      1.379999e+08         Colin Trevorrow          2015  1.392446e+09   \n",
       "0      1.379999e+08         Colin Trevorrow          2015  1.392446e+09   \n",
       "0      1.379999e+08         Colin Trevorrow          2015  1.392446e+09   \n",
       "0      1.379999e+08         Colin Trevorrow          2015  1.392446e+09   \n",
       "1      1.379999e+08           George Miller          2015  3.481613e+08   \n",
       "...             ...                     ...           ...           ...   \n",
       "10820  2.116175e+06  Chuck Jones|Ben Washam          1966  0.000000e+00   \n",
       "10820  2.116175e+06  Chuck Jones|Ben Washam          1966  0.000000e+00   \n",
       "10825  0.000000e+00  Michelangelo Antonioni          1966  0.000000e+00   \n",
       "10825  0.000000e+00  Michelangelo Antonioni          1966  0.000000e+00   \n",
       "10825  0.000000e+00  Michelangelo Antonioni          1966  0.000000e+00   \n",
       "\n",
       "       runtime  vote_average  vote_count           genres  \n",
       "0          124           6.5        5562           Action  \n",
       "0          124           6.5        5562        Adventure  \n",
       "0          124           6.5        5562  Science Fiction  \n",
       "0          124           6.5        5562         Thriller  \n",
       "1          120           7.1        6185           Action  \n",
       "...        ...           ...         ...              ...  \n",
       "10820       26           7.1         286           Family  \n",
       "10820       26           7.1         286           Comedy  \n",
       "10825      111           6.8         103            Drama  \n",
       "10825      111           6.8         103          Mystery  \n",
       "10825      111           6.8         103         Thriller  \n",
       "\n",
       "[9009 rows x 8 columns]"
      ]
     },
     "execution_count": 14,
     "metadata": {},
     "output_type": "execute_result"
    }
   ],
   "source": [
    "#Step 3\n",
    "from itertools import chain\n",
    "\n",
    "cols = vote100.columns.difference(['genres'])\n",
    "genres = vote100['genres'].str.split('|')\n",
    "\n",
    "multi_genre =  (vote100.loc[vote100.index.repeat(genres.str.len()), cols].assign(genres=list(chain.from_iterable(genres.tolist()))))\n",
    "multi_genre"
   ]
  },
  {
   "cell_type": "markdown",
   "metadata": {},
   "source": [
    "Used a method found on [Stack Overflow](https://stackoverflow.com/questions/52575290/how-to-separate-string-into-multiple-rows-in-pandas) in order to achieve step 3.\n",
    "\n",
    "The rows increased to 9009 because each film with multiple genres now got a seperate line for each genre. \n",
    "\n",
    "The number of unique indexes should still be the same."
   ]
  },
  {
   "cell_type": "code",
   "execution_count": 15,
   "metadata": {},
   "outputs": [
    {
     "data": {
      "text/plain": [
       "3329"
      ]
     },
     "execution_count": 15,
     "metadata": {},
     "output_type": "execute_result"
    }
   ],
   "source": [
    "multi_genre.index.nunique()"
   ]
  },
  {
   "cell_type": "markdown",
   "metadata": {},
   "source": [
    "As expected the number of unique indexes and therefore unique films is still 3329.\n",
    "\n",
    "\n",
    "Repeating step 3 for the directors column in order to split up the movies with multiple directors into different rows:"
   ]
  },
  {
   "cell_type": "code",
   "execution_count": 16,
   "metadata": {},
   "outputs": [
    {
     "data": {
      "text/html": [
       "<div>\n",
       "<style scoped>\n",
       "    .dataframe tbody tr th:only-of-type {\n",
       "        vertical-align: middle;\n",
       "    }\n",
       "\n",
       "    .dataframe tbody tr th {\n",
       "        vertical-align: top;\n",
       "    }\n",
       "\n",
       "    .dataframe thead th {\n",
       "        text-align: right;\n",
       "    }\n",
       "</style>\n",
       "<table border=\"1\" class=\"dataframe\">\n",
       "  <thead>\n",
       "    <tr style=\"text-align: right;\">\n",
       "      <th></th>\n",
       "      <th>identifier</th>\n",
       "      <th>budget_adj</th>\n",
       "      <th>director</th>\n",
       "      <th>release_year</th>\n",
       "      <th>revenue_adj</th>\n",
       "      <th>runtime</th>\n",
       "      <th>vote_average</th>\n",
       "      <th>vote_count</th>\n",
       "      <th>genres</th>\n",
       "    </tr>\n",
       "  </thead>\n",
       "  <tbody>\n",
       "    <tr>\n",
       "      <th>0</th>\n",
       "      <td>0</td>\n",
       "      <td>1.379999e+08</td>\n",
       "      <td>Colin Trevorrow</td>\n",
       "      <td>2015</td>\n",
       "      <td>1.392446e+09</td>\n",
       "      <td>124</td>\n",
       "      <td>6.5</td>\n",
       "      <td>5562</td>\n",
       "      <td>Action</td>\n",
       "    </tr>\n",
       "    <tr>\n",
       "      <th>1</th>\n",
       "      <td>0</td>\n",
       "      <td>1.379999e+08</td>\n",
       "      <td>Colin Trevorrow</td>\n",
       "      <td>2015</td>\n",
       "      <td>1.392446e+09</td>\n",
       "      <td>124</td>\n",
       "      <td>6.5</td>\n",
       "      <td>5562</td>\n",
       "      <td>Adventure</td>\n",
       "    </tr>\n",
       "    <tr>\n",
       "      <th>2</th>\n",
       "      <td>0</td>\n",
       "      <td>1.379999e+08</td>\n",
       "      <td>Colin Trevorrow</td>\n",
       "      <td>2015</td>\n",
       "      <td>1.392446e+09</td>\n",
       "      <td>124</td>\n",
       "      <td>6.5</td>\n",
       "      <td>5562</td>\n",
       "      <td>Science Fiction</td>\n",
       "    </tr>\n",
       "    <tr>\n",
       "      <th>3</th>\n",
       "      <td>0</td>\n",
       "      <td>1.379999e+08</td>\n",
       "      <td>Colin Trevorrow</td>\n",
       "      <td>2015</td>\n",
       "      <td>1.392446e+09</td>\n",
       "      <td>124</td>\n",
       "      <td>6.5</td>\n",
       "      <td>5562</td>\n",
       "      <td>Thriller</td>\n",
       "    </tr>\n",
       "    <tr>\n",
       "      <th>4</th>\n",
       "      <td>1</td>\n",
       "      <td>1.379999e+08</td>\n",
       "      <td>George Miller</td>\n",
       "      <td>2015</td>\n",
       "      <td>3.481613e+08</td>\n",
       "      <td>120</td>\n",
       "      <td>7.1</td>\n",
       "      <td>6185</td>\n",
       "      <td>Action</td>\n",
       "    </tr>\n",
       "    <tr>\n",
       "      <th>...</th>\n",
       "      <td>...</td>\n",
       "      <td>...</td>\n",
       "      <td>...</td>\n",
       "      <td>...</td>\n",
       "      <td>...</td>\n",
       "      <td>...</td>\n",
       "      <td>...</td>\n",
       "      <td>...</td>\n",
       "      <td>...</td>\n",
       "    </tr>\n",
       "    <tr>\n",
       "      <th>9004</th>\n",
       "      <td>10820</td>\n",
       "      <td>2.116175e+06</td>\n",
       "      <td>Chuck Jones|Ben Washam</td>\n",
       "      <td>1966</td>\n",
       "      <td>0.000000e+00</td>\n",
       "      <td>26</td>\n",
       "      <td>7.1</td>\n",
       "      <td>286</td>\n",
       "      <td>Family</td>\n",
       "    </tr>\n",
       "    <tr>\n",
       "      <th>9005</th>\n",
       "      <td>10820</td>\n",
       "      <td>2.116175e+06</td>\n",
       "      <td>Chuck Jones|Ben Washam</td>\n",
       "      <td>1966</td>\n",
       "      <td>0.000000e+00</td>\n",
       "      <td>26</td>\n",
       "      <td>7.1</td>\n",
       "      <td>286</td>\n",
       "      <td>Comedy</td>\n",
       "    </tr>\n",
       "    <tr>\n",
       "      <th>9006</th>\n",
       "      <td>10825</td>\n",
       "      <td>0.000000e+00</td>\n",
       "      <td>Michelangelo Antonioni</td>\n",
       "      <td>1966</td>\n",
       "      <td>0.000000e+00</td>\n",
       "      <td>111</td>\n",
       "      <td>6.8</td>\n",
       "      <td>103</td>\n",
       "      <td>Drama</td>\n",
       "    </tr>\n",
       "    <tr>\n",
       "      <th>9007</th>\n",
       "      <td>10825</td>\n",
       "      <td>0.000000e+00</td>\n",
       "      <td>Michelangelo Antonioni</td>\n",
       "      <td>1966</td>\n",
       "      <td>0.000000e+00</td>\n",
       "      <td>111</td>\n",
       "      <td>6.8</td>\n",
       "      <td>103</td>\n",
       "      <td>Mystery</td>\n",
       "    </tr>\n",
       "    <tr>\n",
       "      <th>9008</th>\n",
       "      <td>10825</td>\n",
       "      <td>0.000000e+00</td>\n",
       "      <td>Michelangelo Antonioni</td>\n",
       "      <td>1966</td>\n",
       "      <td>0.000000e+00</td>\n",
       "      <td>111</td>\n",
       "      <td>6.8</td>\n",
       "      <td>103</td>\n",
       "      <td>Thriller</td>\n",
       "    </tr>\n",
       "  </tbody>\n",
       "</table>\n",
       "<p>9009 rows × 9 columns</p>\n",
       "</div>"
      ],
      "text/plain": [
       "      identifier    budget_adj                director  release_year  \\\n",
       "0              0  1.379999e+08         Colin Trevorrow          2015   \n",
       "1              0  1.379999e+08         Colin Trevorrow          2015   \n",
       "2              0  1.379999e+08         Colin Trevorrow          2015   \n",
       "3              0  1.379999e+08         Colin Trevorrow          2015   \n",
       "4              1  1.379999e+08           George Miller          2015   \n",
       "...          ...           ...                     ...           ...   \n",
       "9004       10820  2.116175e+06  Chuck Jones|Ben Washam          1966   \n",
       "9005       10820  2.116175e+06  Chuck Jones|Ben Washam          1966   \n",
       "9006       10825  0.000000e+00  Michelangelo Antonioni          1966   \n",
       "9007       10825  0.000000e+00  Michelangelo Antonioni          1966   \n",
       "9008       10825  0.000000e+00  Michelangelo Antonioni          1966   \n",
       "\n",
       "       revenue_adj  runtime  vote_average  vote_count           genres  \n",
       "0     1.392446e+09      124           6.5        5562           Action  \n",
       "1     1.392446e+09      124           6.5        5562        Adventure  \n",
       "2     1.392446e+09      124           6.5        5562  Science Fiction  \n",
       "3     1.392446e+09      124           6.5        5562         Thriller  \n",
       "4     3.481613e+08      120           7.1        6185           Action  \n",
       "...            ...      ...           ...         ...              ...  \n",
       "9004  0.000000e+00       26           7.1         286           Family  \n",
       "9005  0.000000e+00       26           7.1         286           Comedy  \n",
       "9006  0.000000e+00      111           6.8         103            Drama  \n",
       "9007  0.000000e+00      111           6.8         103          Mystery  \n",
       "9008  0.000000e+00      111           6.8         103         Thriller  \n",
       "\n",
       "[9009 rows x 9 columns]"
      ]
     },
     "execution_count": 16,
     "metadata": {},
     "output_type": "execute_result"
    }
   ],
   "source": [
    "#New index is needed in order to use the split method from step3. The old index is still kept in the column \"identifier\" in order to identify unique films.\n",
    "multi_genre = multi_genre.reset_index().rename(columns={'index': 'identifier'})\n",
    "multi_genre"
   ]
  },
  {
   "cell_type": "code",
   "execution_count": 17,
   "metadata": {},
   "outputs": [
    {
     "data": {
      "text/html": [
       "<div>\n",
       "<style scoped>\n",
       "    .dataframe tbody tr th:only-of-type {\n",
       "        vertical-align: middle;\n",
       "    }\n",
       "\n",
       "    .dataframe tbody tr th {\n",
       "        vertical-align: top;\n",
       "    }\n",
       "\n",
       "    .dataframe thead th {\n",
       "        text-align: right;\n",
       "    }\n",
       "</style>\n",
       "<table border=\"1\" class=\"dataframe\">\n",
       "  <thead>\n",
       "    <tr style=\"text-align: right;\">\n",
       "      <th></th>\n",
       "      <th>budget_adj</th>\n",
       "      <th>genres</th>\n",
       "      <th>identifier</th>\n",
       "      <th>release_year</th>\n",
       "      <th>revenue_adj</th>\n",
       "      <th>runtime</th>\n",
       "      <th>vote_average</th>\n",
       "      <th>vote_count</th>\n",
       "      <th>director</th>\n",
       "    </tr>\n",
       "  </thead>\n",
       "  <tbody>\n",
       "    <tr>\n",
       "      <th>0</th>\n",
       "      <td>1.379999e+08</td>\n",
       "      <td>Action</td>\n",
       "      <td>0</td>\n",
       "      <td>2015</td>\n",
       "      <td>1.392446e+09</td>\n",
       "      <td>124</td>\n",
       "      <td>6.5</td>\n",
       "      <td>5562</td>\n",
       "      <td>Colin Trevorrow</td>\n",
       "    </tr>\n",
       "    <tr>\n",
       "      <th>1</th>\n",
       "      <td>1.379999e+08</td>\n",
       "      <td>Adventure</td>\n",
       "      <td>0</td>\n",
       "      <td>2015</td>\n",
       "      <td>1.392446e+09</td>\n",
       "      <td>124</td>\n",
       "      <td>6.5</td>\n",
       "      <td>5562</td>\n",
       "      <td>Colin Trevorrow</td>\n",
       "    </tr>\n",
       "    <tr>\n",
       "      <th>2</th>\n",
       "      <td>1.379999e+08</td>\n",
       "      <td>Science Fiction</td>\n",
       "      <td>0</td>\n",
       "      <td>2015</td>\n",
       "      <td>1.392446e+09</td>\n",
       "      <td>124</td>\n",
       "      <td>6.5</td>\n",
       "      <td>5562</td>\n",
       "      <td>Colin Trevorrow</td>\n",
       "    </tr>\n",
       "    <tr>\n",
       "      <th>3</th>\n",
       "      <td>1.379999e+08</td>\n",
       "      <td>Thriller</td>\n",
       "      <td>0</td>\n",
       "      <td>2015</td>\n",
       "      <td>1.392446e+09</td>\n",
       "      <td>124</td>\n",
       "      <td>6.5</td>\n",
       "      <td>5562</td>\n",
       "      <td>Colin Trevorrow</td>\n",
       "    </tr>\n",
       "    <tr>\n",
       "      <th>4</th>\n",
       "      <td>1.379999e+08</td>\n",
       "      <td>Action</td>\n",
       "      <td>1</td>\n",
       "      <td>2015</td>\n",
       "      <td>3.481613e+08</td>\n",
       "      <td>120</td>\n",
       "      <td>7.1</td>\n",
       "      <td>6185</td>\n",
       "      <td>George Miller</td>\n",
       "    </tr>\n",
       "    <tr>\n",
       "      <th>...</th>\n",
       "      <td>...</td>\n",
       "      <td>...</td>\n",
       "      <td>...</td>\n",
       "      <td>...</td>\n",
       "      <td>...</td>\n",
       "      <td>...</td>\n",
       "      <td>...</td>\n",
       "      <td>...</td>\n",
       "      <td>...</td>\n",
       "    </tr>\n",
       "    <tr>\n",
       "      <th>9005</th>\n",
       "      <td>2.116175e+06</td>\n",
       "      <td>Comedy</td>\n",
       "      <td>10820</td>\n",
       "      <td>1966</td>\n",
       "      <td>0.000000e+00</td>\n",
       "      <td>26</td>\n",
       "      <td>7.1</td>\n",
       "      <td>286</td>\n",
       "      <td>Chuck Jones</td>\n",
       "    </tr>\n",
       "    <tr>\n",
       "      <th>9005</th>\n",
       "      <td>2.116175e+06</td>\n",
       "      <td>Comedy</td>\n",
       "      <td>10820</td>\n",
       "      <td>1966</td>\n",
       "      <td>0.000000e+00</td>\n",
       "      <td>26</td>\n",
       "      <td>7.1</td>\n",
       "      <td>286</td>\n",
       "      <td>Ben Washam</td>\n",
       "    </tr>\n",
       "    <tr>\n",
       "      <th>9006</th>\n",
       "      <td>0.000000e+00</td>\n",
       "      <td>Drama</td>\n",
       "      <td>10825</td>\n",
       "      <td>1966</td>\n",
       "      <td>0.000000e+00</td>\n",
       "      <td>111</td>\n",
       "      <td>6.8</td>\n",
       "      <td>103</td>\n",
       "      <td>Michelangelo Antonioni</td>\n",
       "    </tr>\n",
       "    <tr>\n",
       "      <th>9007</th>\n",
       "      <td>0.000000e+00</td>\n",
       "      <td>Mystery</td>\n",
       "      <td>10825</td>\n",
       "      <td>1966</td>\n",
       "      <td>0.000000e+00</td>\n",
       "      <td>111</td>\n",
       "      <td>6.8</td>\n",
       "      <td>103</td>\n",
       "      <td>Michelangelo Antonioni</td>\n",
       "    </tr>\n",
       "    <tr>\n",
       "      <th>9008</th>\n",
       "      <td>0.000000e+00</td>\n",
       "      <td>Thriller</td>\n",
       "      <td>10825</td>\n",
       "      <td>1966</td>\n",
       "      <td>0.000000e+00</td>\n",
       "      <td>111</td>\n",
       "      <td>6.8</td>\n",
       "      <td>103</td>\n",
       "      <td>Michelangelo Antonioni</td>\n",
       "    </tr>\n",
       "  </tbody>\n",
       "</table>\n",
       "<p>9967 rows × 9 columns</p>\n",
       "</div>"
      ],
      "text/plain": [
       "        budget_adj           genres  identifier  release_year   revenue_adj  \\\n",
       "0     1.379999e+08           Action           0          2015  1.392446e+09   \n",
       "1     1.379999e+08        Adventure           0          2015  1.392446e+09   \n",
       "2     1.379999e+08  Science Fiction           0          2015  1.392446e+09   \n",
       "3     1.379999e+08         Thriller           0          2015  1.392446e+09   \n",
       "4     1.379999e+08           Action           1          2015  3.481613e+08   \n",
       "...            ...              ...         ...           ...           ...   \n",
       "9005  2.116175e+06           Comedy       10820          1966  0.000000e+00   \n",
       "9005  2.116175e+06           Comedy       10820          1966  0.000000e+00   \n",
       "9006  0.000000e+00            Drama       10825          1966  0.000000e+00   \n",
       "9007  0.000000e+00          Mystery       10825          1966  0.000000e+00   \n",
       "9008  0.000000e+00         Thriller       10825          1966  0.000000e+00   \n",
       "\n",
       "      runtime  vote_average  vote_count                director  \n",
       "0         124           6.5        5562         Colin Trevorrow  \n",
       "1         124           6.5        5562         Colin Trevorrow  \n",
       "2         124           6.5        5562         Colin Trevorrow  \n",
       "3         124           6.5        5562         Colin Trevorrow  \n",
       "4         120           7.1        6185           George Miller  \n",
       "...       ...           ...         ...                     ...  \n",
       "9005       26           7.1         286             Chuck Jones  \n",
       "9005       26           7.1         286              Ben Washam  \n",
       "9006      111           6.8         103  Michelangelo Antonioni  \n",
       "9007      111           6.8         103  Michelangelo Antonioni  \n",
       "9008      111           6.8         103  Michelangelo Antonioni  \n",
       "\n",
       "[9967 rows x 9 columns]"
      ]
     },
     "execution_count": 17,
     "metadata": {},
     "output_type": "execute_result"
    }
   ],
   "source": [
    "#Step4\n",
    "from itertools import chain\n",
    "\n",
    "cols2 = multi_genre.columns.difference(['director'])\n",
    "director = multi_genre['director'].str.split('|')\n",
    "\n",
    "df_final =  (multi_genre.loc[multi_genre.index.repeat(director.str.len()), cols2].assign(director=list(chain.from_iterable(director.tolist()))))\n",
    "df_final"
   ]
  },
  {
   "cell_type": "code",
   "execution_count": 18,
   "metadata": {},
   "outputs": [
    {
     "data": {
      "text/plain": [
       "3329"
      ]
     },
     "execution_count": 18,
     "metadata": {},
     "output_type": "execute_result"
    }
   ],
   "source": [
    "#Check if uniquie films are still the same:\n",
    "df_final.identifier.nunique()"
   ]
  },
  {
   "cell_type": "markdown",
   "metadata": {},
   "source": [
    "The unique number of films is still the same with 3329. Over all there are now 9967 rows in the dataset since the genres and directors are all split into single lines \n",
    "in order to compare them in the further steps."
   ]
  },
  {
   "cell_type": "markdown",
   "metadata": {},
   "source": [
    "<a id='eda'></a>\n",
    "## Exploratory Data Analysis\n",
    "\n",
    "\n",
    "\n",
    "### 1. Which genres are most popular (highest rating) and how does this change over the years?"
   ]
  },
  {
   "cell_type": "code",
   "execution_count": 19,
   "metadata": {},
   "outputs": [
    {
     "data": {
      "image/png": "[encoded data removed]",
      "text/plain": [
       "<Figure size 720x432 with 1 Axes>"
      ]
     },
     "metadata": {
      "needs_background": "light"
     },
     "output_type": "display_data"
    }
   ],
   "source": [
    "#genres as labels\n",
    "labels = df_final.genres.unique()\n",
    "labels.sort()\n",
    "#number of films per genre as values\n",
    "values = df_final.groupby('genres')['identifier'].count()\n",
    "\n",
    "fig, ax = plt.subplots(figsize=(10,6))\n",
    "fig.suptitle('Films per Genres')\n",
    "\n",
    "ax.bar(labels, values)\n",
    "ax.set_ylabel('Films')\n",
    "ax.set_xlabel('Genres')\n",
    "fig.autofmt_xdate();\n"
   ]
  },
  {
   "cell_type": "markdown",
   "metadata": {},
   "source": [
    "The most films are in the genres Darma, Comedy, Thriller, Action and Adventure.\n",
    "\n",
    "In the next step we will look at the mean rating of each gerne:"
   ]
  },
  {
   "cell_type": "code",
   "execution_count": 20,
   "metadata": {},
   "outputs": [
    {
     "data": {
      "image/png": "[encoded data removed]",
      "text/plain": [
       "<Figure size 720x432 with 1 Axes>"
      ]
     },
     "metadata": {
      "needs_background": "light"
     },
     "output_type": "display_data"
    }
   ],
   "source": [
    "#genres as labels\n",
    "labels = df_final.genres.unique()\n",
    "labels.sort()\n",
    "#mean rating (vote_average) per genre as values\n",
    "values = df_final.groupby('genres')['vote_average'].mean()\n",
    "\n",
    "fig, ax = plt.subplots(figsize=(10,6))\n",
    "fig.suptitle('Mean Rating per Genres')\n",
    "\n",
    "ax.bar(labels, values)\n",
    "ax.set_ylabel('Rating')\n",
    "ax.set_xlabel('Genres')\n",
    "fig.autofmt_xdate();"
   ]
  },
  {
   "cell_type": "code",
   "execution_count": 21,
   "metadata": {},
   "outputs": [
    {
     "data": {
      "text/plain": [
       "genres\n",
       "TV Movie           5.770000\n",
       "Horror             5.851259\n",
       "Thriller           6.144554\n",
       "Comedy             6.146372\n",
       "Action             6.155186\n",
       "Science Fiction    6.174656\n",
       "Fantasy            6.219463\n",
       "Adventure          6.259726\n",
       "Mystery            6.289199\n",
       "Family             6.331283\n",
       "Romance            6.337018\n",
       "Crime              6.372359\n",
       "Western            6.493617\n",
       "Drama              6.564130\n",
       "Animation          6.566832\n",
       "Music              6.605263\n",
       "History            6.821622\n",
       "War                6.920000\n",
       "Documentary        7.157500\n",
       "Name: vote_average, dtype: float64"
      ]
     },
     "execution_count": 21,
     "metadata": {},
     "output_type": "execute_result"
    }
   ],
   "source": [
    "values.sort_values()"
   ]
  },
  {
   "cell_type": "markdown",
   "metadata": {},
   "source": [
    "The highest mean rating is in the genre Documentary with 7.18 followed by War with 6.92. Looking at the number of films per genre we can say, that in these categories are just very few films. Out of the genres with the 5 most films Darma has the highest rating with 6.56.\n",
    "\n",
    "In order to answer the question how the most popular genres change over the years we will split the films into 3 categories:\n",
    "1. 1966 - 1985\n",
    "2. 1986 - 2000\n",
    "3. 2001 - 2015"
   ]
  },
  {
   "cell_type": "code",
   "execution_count": 22,
   "metadata": {},
   "outputs": [],
   "source": [
    "#Creating the 3 groups\n",
    "category1 = df_final.query('release_year < 1986')\n",
    "category2 = df_final.query('release_year >= 1986 & release_year <= 2000')\n",
    "category3 = df_final.query('release_year > 2000')"
   ]
  },
  {
   "cell_type": "code",
   "execution_count": 23,
   "metadata": {},
   "outputs": [
    {
     "data": {
      "image/png": "[encoded data removed]",
      "text/plain": [
       "<Figure size 720x432 with 1 Axes>"
      ]
     },
     "metadata": {
      "needs_background": "light"
     },
     "output_type": "display_data"
    }
   ],
   "source": [
    "#genres as labels\n",
    "labels = category1.genres.unique()\n",
    "labels.sort()\n",
    "#mean rating (vote_average) per genre as values for category1\n",
    "values1 = category1.groupby('genres')['vote_average'].mean()\n",
    "\n",
    "fig, ax = plt.subplots(figsize=(10,6))\n",
    "fig.suptitle('Mean Rating per Genres 1966-1985')\n",
    "\n",
    "ax.bar(labels, values1)\n",
    "ax.set_ylabel('Rating')\n",
    "ax.set_xlabel('Genres')\n",
    "fig.autofmt_xdate();"
   ]
  },
  {
   "cell_type": "code",
   "execution_count": 24,
   "metadata": {},
   "outputs": [
    {
     "data": {
      "text/plain": [
       "genres\n",
       "Action             6.593243\n",
       "Fantasy            6.640625\n",
       "Adventure          6.641860\n",
       "Thriller           6.708824\n",
       "Horror             6.726316\n",
       "Science Fiction    6.738000\n",
       "Romance            6.762857\n",
       "Animation          6.770000\n",
       "Family             6.848387\n",
       "Comedy             6.864474\n",
       "Music              6.921429\n",
       "Mystery            6.926316\n",
       "Western            7.037500\n",
       "Drama              7.062857\n",
       "War                7.064706\n",
       "History            7.112500\n",
       "Crime              7.124324\n",
       "Name: vote_average, dtype: float64"
      ]
     },
     "execution_count": 24,
     "metadata": {},
     "output_type": "execute_result"
    }
   ],
   "source": [
    "values1.sort_values()"
   ]
  },
  {
   "cell_type": "markdown",
   "metadata": {},
   "source": [
    "From 1966-1985 the top rated genres are Crime (7.12), History (7.11), War (7.06) and Drama (7.06)"
   ]
  },
  {
   "cell_type": "code",
   "execution_count": 25,
   "metadata": {},
   "outputs": [
    {
     "data": {
      "image/png": "[encoded data removed]",
      "text/plain": [
       "<Figure size 720x432 with 1 Axes>"
      ]
     },
     "metadata": {
      "needs_background": "light"
     },
     "output_type": "display_data"
    }
   ],
   "source": [
    "#genres as labels\n",
    "labels = category2.genres.unique()\n",
    "labels.sort()\n",
    "#mean rating (vote_average) per genre as values for category2\n",
    "values2 = category2.groupby('genres')['vote_average'].mean()\n",
    "\n",
    "fig, ax = plt.subplots(figsize=(10,6))\n",
    "fig.suptitle('Mean Rating per Genres 1986-2000')\n",
    "\n",
    "ax.bar(labels, values2)\n",
    "ax.set_ylabel('Rating')\n",
    "ax.set_xlabel('Genres')\n",
    "fig.autofmt_xdate();"
   ]
  },
  {
   "cell_type": "code",
   "execution_count": 26,
   "metadata": {},
   "outputs": [
    {
     "data": {
      "text/plain": [
       "genres\n",
       "Science Fiction    6.067826\n",
       "Horror             6.126389\n",
       "Action             6.142241\n",
       "Adventure          6.168750\n",
       "Thriller           6.290295\n",
       "Fantasy            6.309483\n",
       "Comedy             6.312709\n",
       "Mystery            6.386486\n",
       "Family             6.404667\n",
       "Romance            6.418803\n",
       "Crime              6.506452\n",
       "TV Movie           6.600000\n",
       "Western            6.600000\n",
       "Drama              6.683125\n",
       "Animation          6.715909\n",
       "Music              6.785185\n",
       "War                6.800000\n",
       "History            6.971429\n",
       "Name: vote_average, dtype: float64"
      ]
     },
     "execution_count": 26,
     "metadata": {},
     "output_type": "execute_result"
    }
   ],
   "source": [
    "values2.sort_values()"
   ]
  },
  {
   "cell_type": "markdown",
   "metadata": {},
   "source": [
    "From 1986-2000 the top rated genres are History (6.97), War (6.80), Music (6.79), Animation (6.71) and Drama (6.68)"
   ]
  },
  {
   "cell_type": "code",
   "execution_count": 27,
   "metadata": {},
   "outputs": [
    {
     "data": {
      "image/png": "[encoded data removed]",
      "text/plain": [
       "<Figure size 720x432 with 1 Axes>"
      ]
     },
     "metadata": {
      "needs_background": "light"
     },
     "output_type": "display_data"
    }
   ],
   "source": [
    "#genres as labels\n",
    "labels = category3.genres.unique()\n",
    "labels.sort()\n",
    "#mean rating (vote_average) per genre as values for category3\n",
    "values3 = category3.groupby('genres')['vote_average'].mean()\n",
    "\n",
    "fig, ax = plt.subplots(figsize=(10,6))\n",
    "fig.suptitle('Mean Rating per Genres 2001-2015')\n",
    "\n",
    "ax.bar(labels, values3)\n",
    "ax.set_ylabel('Rating')\n",
    "ax.set_xlabel('Genres')\n",
    "fig.autofmt_xdate();"
   ]
  },
  {
   "cell_type": "code",
   "execution_count": 28,
   "metadata": {},
   "outputs": [
    {
     "data": {
      "text/plain": [
       "genres\n",
       "TV Movie           5.677778\n",
       "Horror             5.688991\n",
       "Comedy             6.037942\n",
       "Thriller           6.054094\n",
       "Action             6.114106\n",
       "Science Fiction    6.128488\n",
       "Fantasy            6.139465\n",
       "Mystery            6.189691\n",
       "Adventure          6.230344\n",
       "Crime              6.243085\n",
       "Family             6.261598\n",
       "Western            6.273077\n",
       "Romance            6.278469\n",
       "Drama              6.477746\n",
       "Music              6.478082\n",
       "Animation          6.508784\n",
       "History            6.716216\n",
       "War                6.920833\n",
       "Documentary        7.157500\n",
       "Name: vote_average, dtype: float64"
      ]
     },
     "execution_count": 28,
     "metadata": {},
     "output_type": "execute_result"
    }
   ],
   "source": [
    "values3.sort_values()"
   ]
  },
  {
   "cell_type": "markdown",
   "metadata": {},
   "source": [
    "From 1986-2000 the top rated genres are Documentary (7.15), War (6.92), History (6.72), Animation (6.51) and Music (6.48)\n",
    "Documentary is new in this category and similar to History. This explains why it pops up here the first time."
   ]
  },
  {
   "cell_type": "markdown",
   "metadata": {},
   "source": [
    "### 2. What is the impact of runtime on the rating?"
   ]
  },
  {
   "cell_type": "code",
   "execution_count": 29,
   "metadata": {},
   "outputs": [
    {
     "data": {
      "image/png": "[encoded data removed]",
      "text/plain": [
       "<Figure size 720x576 with 1 Axes>"
      ]
     },
     "metadata": {
      "needs_background": "light"
     },
     "output_type": "display_data"
    }
   ],
   "source": [
    "df_final.plot.scatter('vote_average','runtime', figsize =(10,8));"
   ]
  },
  {
   "cell_type": "code",
   "execution_count": 30,
   "metadata": {},
   "outputs": [
    {
     "data": {
      "text/plain": [
       "count    9967.000000\n",
       "mean      109.355172\n",
       "std        43.916522\n",
       "min         3.000000\n",
       "25%        94.000000\n",
       "50%       104.000000\n",
       "75%       118.000000\n",
       "max       705.000000\n",
       "Name: runtime, dtype: float64"
      ]
     },
     "execution_count": 30,
     "metadata": {},
     "output_type": "execute_result"
    }
   ],
   "source": [
    "df_final.runtime.describe()"
   ]
  },
  {
   "cell_type": "markdown",
   "metadata": {},
   "source": [
    "There is no significant correlation between runtime and rating. But we see that badly rated movies are closer to the mean runtime. While movies deveating from the mean runtime are higher rated."
   ]
  },
  {
   "cell_type": "markdown",
   "metadata": {},
   "source": [
    "### 3. What is the correlation of revenue and rating?"
   ]
  },
  {
   "cell_type": "code",
   "execution_count": 31,
   "metadata": {},
   "outputs": [
    {
     "data": {
      "image/png": "[encoded data removed]",
      "text/plain": [
       "<Figure size 720x576 with 1 Axes>"
      ]
     },
     "metadata": {
      "needs_background": "light"
     },
     "output_type": "display_data"
    }
   ],
   "source": [
    "df_final.plot.scatter('vote_average', 'revenue_adj', figsize =(10,8));"
   ]
  },
  {
   "cell_type": "markdown",
   "metadata": {},
   "source": [
    "The graph looks like a positive correlation between the rating and revenue. While there are some outlier."
   ]
  },
  {
   "cell_type": "markdown",
   "metadata": {},
   "source": [
    "### 4. What is the correlation of budget and rating?"
   ]
  },
  {
   "cell_type": "code",
   "execution_count": 32,
   "metadata": {},
   "outputs": [
    {
     "data": {
      "image/png": "[encoded data removed]",
      "text/plain": [
       "<Figure size 864x576 with 1 Axes>"
      ]
     },
     "metadata": {
      "needs_background": "light"
     },
     "output_type": "display_data"
    }
   ],
   "source": [
    "#budget as x values\n",
    "xbudget = df_final.budget_adj\n",
    "#revenue as y values\n",
    "yrev= df_final.revenue_adj\n",
    "\n",
    "fig, ax = plt.subplots(figsize=(12,8))\n",
    "fig.suptitle('Correlation between Budget and Revenue')\n",
    "\n",
    "ax.scatter(xbudget, yrev)\n",
    "ax.set_ylabel('Revenue')\n",
    "ax.set_xlabel('Budget')\n",
    "fig.autofmt_xdate();"
   ]
  },
  {
   "cell_type": "markdown",
   "metadata": {},
   "source": [
    "The graph shows a weak positive correlation between budget and revenue."
   ]
  },
  {
   "cell_type": "markdown",
   "metadata": {},
   "source": [
    "### 5. Which are the top 5 directors according to their top rating?"
   ]
  },
  {
   "cell_type": "code",
   "execution_count": 33,
   "metadata": {},
   "outputs": [
    {
     "data": {
      "text/plain": [
       "director\n",
       "Frank Darabont          8.4\n",
       "Francis Ford Coppola    8.3\n",
       "Damien Chazelle         8.2\n",
       "Christopher Nolan       8.1\n",
       "Steven Spielberg        8.1\n",
       "Quentin Tarantino       8.1\n",
       "Robert Zemeckis         8.1\n",
       "David Fincher           8.1\n",
       "Patrick Osborne         8.0\n",
       "Mikael Salomon          8.0\n",
       "Name: vote_average, dtype: float64"
      ]
     },
     "execution_count": 33,
     "metadata": {},
     "output_type": "execute_result"
    }
   ],
   "source": [
    "topdirectors = df_final.groupby('director')['vote_average'].max()\n",
    "topdirectors.sort_values(ascending = False, inplace = True)\n",
    "topdirectors.head(10)"
   ]
  },
  {
   "cell_type": "markdown",
   "metadata": {},
   "source": [
    "The top 5 directors with the highest rating on their best film are Frank Darabont (8.4) and Francis Ford Coppola (8.3). Place 3 is shared with a rating of 8.1 between Damien Chazelle, Christopher Nolan, Steven Spielberg, Quentin Tarantino, Robert Zemeckis and David Fincher. "
   ]
  },
  {
   "cell_type": "markdown",
   "metadata": {},
   "source": [
    "### 6. Which are the top 5 directors according to revenue?"
   ]
  },
  {
   "cell_type": "code",
   "execution_count": 34,
   "metadata": {},
   "outputs": [
    {
     "data": {
      "text/plain": [
       "director\n",
       "James Cameron       2.827124e+09\n",
       "George Lucas        2.789712e+09\n",
       "William Friedkin    2.167325e+09\n",
       "Steven Spielberg    1.907006e+09\n",
       "J.J. Abrams         1.902723e+09\n",
       "Name: revenue_adj, dtype: float64"
      ]
     },
     "execution_count": 34,
     "metadata": {},
     "output_type": "execute_result"
    }
   ],
   "source": [
    "topdirectors2 = df_final.groupby('director')['revenue_adj'].max()\n",
    "topdirectors2.sort_values(ascending = False, inplace = True)\n",
    "topdirectors2.head(5)"
   ]
  },
  {
   "cell_type": "code",
   "execution_count": 36,
   "metadata": {},
   "outputs": [
    {
     "data": {
      "text/plain": [
       "director\n",
       "Steven Spielberg    4.073142e+10\n",
       "James Cameron       2.460985e+10\n",
       "Robert Zemeckis     2.019087e+10\n",
       "Peter Jackson       1.914196e+10\n",
       "George Lucas        1.839010e+10\n",
       "Name: revenue_adj, dtype: float64"
      ]
     },
     "execution_count": 36,
     "metadata": {},
     "output_type": "execute_result"
    }
   ],
   "source": [
    "topdirectors2 = df_final.groupby('director')['revenue_adj'].sum()\n",
    "topdirectors2.sort_values(ascending = False, inplace = True)\n",
    "topdirectors2.head(5)"
   ]
  },
  {
   "cell_type": "markdown",
   "metadata": {},
   "source": [
    "The top 5 directors according to maximum revenue per film are James Cameron, George Lucas, William Friedkin, Steven Spielberg and J.J. Abrams\n",
    "The top 5 directors according to aggregated revenue are Steven Spielberg, James Cameron, Robert Zemeckis, Peter Jackson and Georg Lucas."
   ]
  },
  {
   "cell_type": "markdown",
   "metadata": {},
   "source": [
    "<a id='conclusions'></a>\n",
    "## Conclusions\n",
    "\n",
    "In summary we can say that popular genres didn't change that much over time. History, War and in recent years Documentary (new in the category from 2001 on) were always in the top 5. Animation became more popular after the first category (1985). While Crime lost its poleposition and only came in 8th (in the 2nd category and 10th in the 3rd). On the bottom ranks Action and Fantasy (category1) lost its place to Sci-Fi and Horror (category2). While Sci-Fi was able to make a comeback after 2001 Horror stayed on the 2nd last place and got only overtaken by TV Movies.\n",
    "\n",
    "The runtime doesn't have much of an impact on the rating. While higher revenue according to the graph seems to correlate with a higher rating.\n",
    "While according to the graph some budget is necessary to create a blockbuster with a lot of revenue it seems that a lot of budget doesnt guarantee one.\n",
    "\n",
    "When looking at the top directors its interesting, that the top directors of rated movies aren't consistent with the directors of the higest earning movies. Steven Spielberg is the only one who appears in both lists.\n",
    "\n",
    "Disclaimer:\n",
    "No statistcs were used during this analysis therefore the results are tentative and could be improved using more elaborate statistical methods. "
   ]
  }
 ],
 "metadata": {
  "kernelspec": {
   "display_name": "Python 3",
   "language": "python",
   "name": "python3"
  },
  "language_info": {
   "codemirror_mode": {
    "name": "ipython",
    "version": 3
   },
   "file_extension": ".py",
   "mimetype": "text/x-python",
   "name": "python",
   "nbconvert_exporter": "python",
   "pygments_lexer": "ipython3",
   "version": "3.7.7"
  }
 },
 "nbformat": 4,
 "nbformat_minor": 4
}
